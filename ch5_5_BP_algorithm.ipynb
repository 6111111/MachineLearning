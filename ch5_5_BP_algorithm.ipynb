{
 "cells": [
  {
   "cell_type": "markdown",
   "metadata": {},
   "source": [
    "# ch 5.5 BP算法\n",
    "试编程实现标准BP算法和累积BP算法，在西瓜数据集3.0上分别用这两个算法训练一个单隐层网络，并进行比较。"
   ]
  },
  {
   "cell_type": "code",
   "execution_count": 9,
   "metadata": {
    "collapsed": false
   },
   "outputs": [],
   "source": [
    "import numpy as np\n",
    "import pandas as pd\n",
    "weight = np.random.random([2,3])"
   ]
  },
  {
   "cell_type": "code",
   "execution_count": 10,
   "metadata": {
    "collapsed": true
   },
   "outputs": [],
   "source": [
    "def sigmoid(x):\n",
    "    return 1/(1+np.exp(-x))"
   ]
  },
  {
   "cell_type": "code",
   "execution_count": 11,
   "metadata": {
    "collapsed": false
   },
   "outputs": [],
   "source": [
    "dataset = pd.read_csv('data/table_4_3_watermelon_3_0_num.csv')\n",
    "dataset = dataset.drop('Idx',axis=1)"
   ]
  },
  {
   "cell_type": "code",
   "execution_count": 20,
   "metadata": {
    "collapsed": false,
    "scrolled": true
   },
   "outputs": [
    {
     "name": "stdout",
     "output_type": "stream",
     "text": [
      "error:  7.78858737377\n",
      "error:  7.63693064059\n"
     ]
    }
   ],
   "source": [
    "before_error = 0\n",
    "error = 1\n",
    "eta = 0.1\n",
    "h_num = 10\n",
    "j_num = 2\n",
    "i_num = dataset.shape[1] - 1\n",
    "l_num = 2\n",
    "w_h_j = np.random.random([h_num, j_num])\n",
    "v_i_h = np.random.random([i_num, h_num])\n",
    "theta_j = np.random.random([1,j_num])\n",
    "gamma_h = np.random.random([1,h_num])\n",
    "while np.abs(error - before_error) > 0.5:\n",
    "    before_error = error\n",
    "    error = 0\n",
    "    for k in range(len(dataset)):\n",
    "        x_i, y_i = dataset.ix[k,:-1], dataset.ix[k,-1]  # x_i：1xi的向量\n",
    "        x_i = np.array(x_i)\n",
    "        x_i = np.reshape(x_i, [1,i_num])\n",
    "        y_j = np.zeros([1,l_num])\n",
    "        y_j[0][int(y_i)] = 1\n",
    "        alpha_h = np.dot(x_i, v_i_h)\n",
    "        b_h = sigmoid(alpha_h - gamma_h)\n",
    "        beta_j = np.dot(b_h, w_h_j)        \n",
    "        # formula 5.3\n",
    "        y_j_cap = sigmoid(beta_j - theta_j)\n",
    "        # formula 5.10\n",
    "        g_j = y_j_cap * (np.ones_like(y_j_cap)-y_j_cap)*(y_j - y_j_cap)\n",
    "        # formula 5.15\n",
    "        e_h = b_h *(np.ones_like(b_h)-b_h) * np.dot(g_j, w_h_j.T)\n",
    "        \n",
    "        delta_w_h_j = eta * np.dot(b_h.T, g_j)\n",
    "        delta_theta_j = -eta * g_j\n",
    "        delta_v_i_h = eta * (np.dot(e_h.T, x_i)).T\n",
    "        delta_gamma_h = -eta * e_h\n",
    "        \n",
    "        w_h_j += delta_w_h_j\n",
    "        theta_j += delta_theta_j\n",
    "        v_i_h += delta_v_i_h\n",
    "        gamma_h += delta_gamma_h\n",
    "    \n",
    "        error += 0.5*np.sum((y_j_cap - y_j)*(y_j_cap - y_j))\n",
    "    print('error: ',error)    "
   ]
  },
  {
   "cell_type": "code",
   "execution_count": 18,
   "metadata": {
    "collapsed": false
   },
   "outputs": [],
   "source": [
    "def predict(x_i, w_h_j, v_i_h, theta_j, gamma_h):\n",
    "    alpha_h = np.dot(x_i, v_i_h)\n",
    "    b_h = sigmoid(alpha_h - gamma_h)\n",
    "    beta_j = np.dot(b_h, w_h_j)        \n",
    "    y_j_cap = sigmoid(beta_j - theta_j)\n",
    "    if y_j_cap[0][0] > y_j_cap[0][1]:\n",
    "        print(0)\n",
    "        return 0\n",
    "    else:\n",
    "        print(1)\n",
    "        return 1\n",
    "#     print(y_j_cap)\n",
    "    \n",
    "#     return y_j_cap"
   ]
  },
  {
   "cell_type": "code",
   "execution_count": 21,
   "metadata": {
    "collapsed": false
   },
   "outputs": [
    {
     "name": "stdout",
     "output_type": "stream",
     "text": [
      "0\n",
      "0\n",
      "0\n",
      "0\n",
      "0\n",
      "0\n",
      "0\n",
      "0\n",
      "0\n",
      "0\n",
      "0\n",
      "0\n",
      "0\n",
      "0\n",
      "0\n",
      "0\n",
      "0\n"
     ]
    }
   ],
   "source": [
    "for i in range(17):\n",
    "    predict(np.array(dataset.ix[14,:-1]), w_h_j, v_i_h, theta_j, gamma_h)"
   ]
  },
  {
   "cell_type": "code",
   "execution_count": 30,
   "metadata": {
    "collapsed": false
   },
   "outputs": [
    {
     "data": {
      "text/plain": [
       "1"
      ]
     },
     "execution_count": 30,
     "metadata": {},
     "output_type": "execute_result"
    }
   ],
   "source": [
    "np.random.randint(3)"
   ]
  },
  {
   "cell_type": "code",
   "execution_count": null,
   "metadata": {
    "collapsed": true
   },
   "outputs": [],
   "source": []
  }
 ],
 "metadata": {
  "anaconda-cloud": {},
  "kernelspec": {
   "display_name": "Python [conda env:anaconda]",
   "language": "python",
   "name": "conda-env-anaconda-py"
  },
  "language_info": {
   "codemirror_mode": {
    "name": "ipython",
    "version": 3
   },
   "file_extension": ".py",
   "mimetype": "text/x-python",
   "name": "python",
   "nbconvert_exporter": "python",
   "pygments_lexer": "ipython3",
   "version": "3.5.2"
  }
 },
 "nbformat": 4,
 "nbformat_minor": 1
}
