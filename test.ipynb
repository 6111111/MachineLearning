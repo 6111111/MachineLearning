{
 "cells": [
  {
   "cell_type": "code",
   "execution_count": 2,
   "metadata": {
    "collapsed": false
   },
   "outputs": [
    {
     "data": {
      "text/plain": [
       "512"
      ]
     },
     "execution_count": 2,
     "metadata": {},
     "output_type": "execute_result"
    }
   ],
   "source": [
    "import numpy as np\n",
    "pow(2,9)"
   ]
  },
  {
   "cell_type": "code",
   "execution_count": 27,
   "metadata": {
    "collapsed": true
   },
   "outputs": [],
   "source": [
    "def hamming_dis(x,y):\n",
    "    return np.sum(np.abs(x-y))\n",
    "\n",
    "def add_one(x):\n",
    "    x[0] += 1\n",
    "    temp = x[0]\n",
    "    i = 0\n",
    "    while(temp>1 and i+1 < len(x)):\n",
    "        x[i] = 0\n",
    "        x[i+1] += 1\n",
    "        temp = x[i+1]\n",
    "        i += 1\n",
    "    return x"
   ]
  },
  {
   "cell_type": "code",
   "execution_count": 35,
   "metadata": {
    "collapsed": false
   },
   "outputs": [],
   "source": [
    "def min_index(x):\n",
    "    min_num = min(x)\n",
    "    is_dup = 0\n",
    "    min_ind = 0\n",
    "    for i in range(len(x)):\n",
    "        if x[i] == min_num:\n",
    "            if is_dup == 0:\n",
    "                min_ind = i\n",
    "                is_dup = 1\n",
    "            else:\n",
    "                return -1\n",
    "    return min_ind"
   ]
  },
  {
   "cell_type": "code",
   "execution_count": 41,
   "metadata": {
    "collapsed": false
   },
   "outputs": [],
   "source": [
    "x = np.zeros([9])\n",
    "x0 = np.ones([9])\n",
    "x1 = np.array([0,0,0,0,0,1,1,1,1])\n",
    "x2 = np.array([0,0,1,1,1,0,0,1,1])\n",
    "x3 = np.array([0,1,0,0,1,0,1,0,1])\n",
    "\n",
    "count = np.zeros([4])"
   ]
  },
  {
   "cell_type": "code",
   "execution_count": 42,
   "metadata": {
    "collapsed": false
   },
   "outputs": [],
   "source": [
    "for i in range(512):\n",
    "    index = min_index([hamming_dis(x,x0),hamming_dis(x,x1),hamming_dis(x,x2),hamming_dis(x,x3)])\n",
    "    if index != -1:\n",
    "        count[index] += 1\n",
    "    x = add_one(x)\n",
    "    "
   ]
  },
  {
   "cell_type": "code",
   "execution_count": 43,
   "metadata": {
    "collapsed": false
   },
   "outputs": [
    {
     "data": {
      "text/plain": [
       "384.0"
      ]
     },
     "execution_count": 43,
     "metadata": {},
     "output_type": "execute_result"
    }
   ],
   "source": [
    "np.sum(count)"
   ]
  },
  {
   "cell_type": "code",
   "execution_count": 44,
   "metadata": {
    "collapsed": false
   },
   "outputs": [
    {
     "data": {
      "text/plain": [
       "array([ 96.,  96.,  96.,  96.])"
      ]
     },
     "execution_count": 44,
     "metadata": {},
     "output_type": "execute_result"
    }
   ],
   "source": [
    "count"
   ]
  },
  {
   "cell_type": "code",
   "execution_count": null,
   "metadata": {
    "collapsed": true
   },
   "outputs": [],
   "source": []
  }
 ],
 "metadata": {
  "kernelspec": {
   "display_name": "Python [conda root]",
   "language": "python",
   "name": "conda-root-py"
  },
  "language_info": {
   "codemirror_mode": {
    "name": "ipython",
    "version": 3
   },
   "file_extension": ".py",
   "mimetype": "text/x-python",
   "name": "python",
   "nbconvert_exporter": "python",
   "pygments_lexer": "ipython3",
   "version": "3.5.2"
  }
 },
 "nbformat": 4,
 "nbformat_minor": 1
}
